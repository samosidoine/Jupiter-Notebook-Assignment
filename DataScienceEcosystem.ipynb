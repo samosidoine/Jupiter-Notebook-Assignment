{
 "cells": [
  {
   "cell_type": "markdown",
   "id": "87273683-0530-4b89-abe1-0089cd9fde8e",
   "metadata": {},
   "source": [
    "# Data Science Tools and Ecosystem"
   ]
  },
  {
   "cell_type": "markdown",
   "id": "70142335-19cf-44ea-9705-de1c664fadbf",
   "metadata": {},
   "source": [
    "In this notebook, Data Science Tools and Ecosystem are summarized."
   ]
  },
  {
   "cell_type": "markdown",
   "id": "f8781f80-180b-4748-a4c4-182d096ceae3",
   "metadata": {},
   "source": [
    "**Objectives:**\n",
    "-List popular languages for Data Science\n",
    "-Commonly used libraries used by Data Scientists\n",
    "-Evaluating arithmetic expressions"
   ]
  },
  {
   "cell_type": "markdown",
   "id": "6e0f137d-ef04-4d55-837c-f8d343a88a9c",
   "metadata": {},
   "source": [
    "Some of the popular languages data science use are:\n",
    "1. Python\n",
    "2. SQL\n",
    "3. R\n",
    "4. Julia"
   ]
  },
  {
   "cell_type": "markdown",
   "id": "328d294d-3b41-4874-8e25-b7685ea991a5",
   "metadata": {},
   "source": [
    "Some of the commonly used libraries used by Data Scientists include:\n",
    "1. TensorFlow\n",
    "2. NumPy\n",
    "3. Pandas\n",
    "4. SciPy"
   ]
  },
  {
   "cell_type": "markdown",
   "id": "865dce88-2f34-419f-92ef-d464b2b638e1",
   "metadata": {},
   "source": [
    "| Data Science tools |\n",
    "|--------------------|\n",
    "|Rstudio             |\n",
    "|--------------------|\n",
    "|Jupiter Notebook    |\n",
    "|--------------------|\n",
    "|Spyder              |\n"
   ]
  },
  {
   "cell_type": "markdown",
   "id": "02487ec2-c072-469b-9ebe-170648433860",
   "metadata": {},
   "source": [
    "### Below are a few examples of evaluating arithmetic expressions in Python"
   ]
  },
  {
   "cell_type": "code",
   "execution_count": 2,
   "id": "6981a985-2a81-4732-a0ac-56de04f8b009",
   "metadata": {},
   "outputs": [
    {
     "data": {
      "text/plain": [
       "17"
      ]
     },
     "execution_count": 2,
     "metadata": {},
     "output_type": "execute_result"
    }
   ],
   "source": [
    "# This is a simple arithmetic expression to multiply then add an integer.\n",
    "(3*4)+5"
   ]
  },
  {
   "cell_type": "code",
   "execution_count": 3,
   "id": "c8e2a810-77c3-45fa-b016-c851147ae04c",
   "metadata": {},
   "outputs": [
    {
     "data": {
      "text/plain": [
       "3.3333333333333335"
      ]
     },
     "execution_count": 3,
     "metadata": {},
     "output_type": "execute_result"
    }
   ],
   "source": [
    "# this will convert 200 minutes to hours by dividing by 60\n",
    "\n",
    "200/60 \n"
   ]
  },
  {
   "cell_type": "markdown",
   "id": "398cb9ed-2443-4c5a-b9c6-f97415edbfe7",
   "metadata": {},
   "source": [
    "## Author\n",
    "Samo Djossi Sidoine"
   ]
  },
  {
   "cell_type": "code",
   "execution_count": null,
   "id": "ea5cbf0f-c83d-4810-a315-dcd44558223e",
   "metadata": {},
   "outputs": [],
   "source": []
  }
 ],
 "metadata": {
  "kernelspec": {
   "display_name": "Python 3 (ipykernel)",
   "language": "python",
   "name": "python3"
  },
  "language_info": {
   "codemirror_mode": {
    "name": "ipython",
    "version": 3
   },
   "file_extension": ".py",
   "mimetype": "text/x-python",
   "name": "python",
   "nbconvert_exporter": "python",
   "pygments_lexer": "ipython3",
   "version": "3.10.9"
  }
 },
 "nbformat": 4,
 "nbformat_minor": 5
}
